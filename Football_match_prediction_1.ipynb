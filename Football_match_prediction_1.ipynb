{
  "metadata": {
    "kernelspec": {
      "display_name": "Python 3",
      "language": "python",
      "name": "python3"
    },
    "language_info": {
      "codemirror_mode": {
        "name": "ipython",
        "version": 3
      },
      "file_extension": ".py",
      "mimetype": "text/x-python",
      "name": "python",
      "nbconvert_exporter": "python",
      "pygments_lexer": "ipython3",
      "version": "3.6.6"
    },
    "kaggle": {
      "accelerator": "none",
      "dataSources": [
        {
          "sourceId": 4229262,
          "sourceType": "datasetVersion",
          "datasetId": 524455
        }
      ],
      "isInternetEnabled": true,
      "language": "python",
      "sourceType": "notebook",
      "isGpuEnabled": false
    },
    "colab": {
      "provenance": []
    }
  },
  "nbformat_minor": 0,
  "nbformat": 4,
  "cells": [
    {
      "source": [
        "# IMPORTANT: RUN THIS CELL IN ORDER TO IMPORT YOUR KAGGLE DATA SOURCES,\n",
        "# THEN FEEL FREE TO DELETE THIS CELL.\n",
        "# NOTE: THIS NOTEBOOK ENVIRONMENT DIFFERS FROM KAGGLE'S PYTHON\n",
        "# ENVIRONMENT SO THERE MAY BE MISSING LIBRARIES USED BY YOUR\n",
        "# NOTEBOOK.\n",
        "import kagglehub\n",
        "saife245_english_premier_league_path = kagglehub.dataset_download('saife245/english-premier-league')\n",
        "\n",
        "print('Data source import complete.')\n"
      ],
      "metadata": {
        "id": "p-qDsbsga3f_",
        "colab": {
          "base_uri": "https://localhost:8080/"
        },
        "outputId": "951a6820-e16a-40dd-9fe3-2fac98eb9645"
      },
      "cell_type": "code",
      "outputs": [
        {
          "output_type": "stream",
          "name": "stdout",
          "text": [
            "Downloading from https://www.kaggle.com/api/v1/datasets/download/saife245/english-premier-league?dataset_version_number=4...\n"
          ]
        },
        {
          "output_type": "stream",
          "name": "stderr",
          "text": [
            "100%|██████████| 1.12M/1.12M [00:00<00:00, 29.9MB/s]"
          ]
        },
        {
          "output_type": "stream",
          "name": "stdout",
          "text": [
            "Extracting files...\n",
            "Data source import complete.\n"
          ]
        },
        {
          "output_type": "stream",
          "name": "stderr",
          "text": [
            "\n"
          ]
        }
      ],
      "execution_count": null
    },
    {
      "cell_type": "markdown",
      "source": [
        "### Importing the dataset"
      ],
      "metadata": {
        "id": "g6fOi6uPa3gD"
      }
    },
    {
      "cell_type": "markdown",
      "source": [
        "import pandas as pd\n",
        "This imports the Pandas library, It allows us to work efficiently with data tables using DataFrame and Series structures.\n",
        "\n",
        "import matplotlib.pyplot as plt, It provides functions to create various types of charts like line plots, bar charts, scatter plots, etc.\n",
        "\n",
        "import numpy as np, It is mainly used for numerical computations and working with arrays and matrices.\n",
        "\n",
        "import seaborn as sns, It offers advanced plotting functions for visualizing relationships and patterns in data with better default aesthetics.\n",
        "\n",
        "from datetime import datetime as dt, allowing us to parse, format, and manipulate date and time values. It is aliased as dt for convenience.\n",
        "\n",
        "import itertools, provides functions that create iterators for efficient looping. It's useful for creating combinations, permutations, and other iterator-based tasks.\n",
        "\n",
        "%matplotlib inline\n",
        "This is a Jupyter/Colab-specific magic command. It ensures that all Matplotlib plots are displayed directly within the notebook cells instead of in separate windows."
      ],
      "metadata": {
        "id": "WurGWYsnbRFY"
      }
    },
    {
      "cell_type": "code",
      "source": [
        "import pandas as pd\n",
        "import matplotlib.pyplot as plt\n",
        "import numpy as np\n",
        "import seaborn as sns\n",
        "from datetime import datetime as dt\n",
        "import itertools\n",
        "\n",
        "%matplotlib inline"
      ],
      "metadata": {
        "id": "5a-rwu8ra3gG"
      },
      "execution_count": null,
      "outputs": []
    },
    {
      "cell_type": "markdown",
      "source": [
        "This code defines the file path for the datasets, lists the seasons to be included, and then reads each season's data from a CSV file into a list of pandas DataFrames."
      ],
      "metadata": {
        "id": "RKDRVLRadlH9"
      }
    },
    {
      "cell_type": "code",
      "source": [
        "# Define the folder path\n",
        "folder = saife245_english_premier_league_path + '/Datasets/'\n",
        "\n",
        "# Define the file names for the seasons\n",
        "seasons = [\n",
        "    '2000-01', '2001-02', '2002-03', '2003-04', '2004-05',\n",
        "    '2005-06', '2006-07', '2007-08', '2008-09', '2009-10',\n",
        "    '2010-11', '2011-12', '2012-13', '2013-14', '2014-15',\n",
        "    '2015-16', '2016-17', '2017-18'\n",
        "]\n",
        "\n",
        "# Read all CSV files into a list of DataFrames\n",
        "raw_data = [pd.read_csv(f'{folder}{season}.csv') for season in seasons]"
      ],
      "metadata": {
        "id": "O4WLkxF9a3gH"
      },
      "execution_count": null,
      "outputs": []
    },
    {
      "cell_type": "code",
      "source": [
        "# Columns we want to keep\n",
        "columns_req = ['Date', 'HomeTeam', 'AwayTeam', 'FTHG', 'FTAG', 'FTR']\n",
        "\n",
        "# Extract only the required columns from each season's DataFrame\n",
        "playing_statistics = [df[columns_req] for df in raw_data]\n"
      ],
      "metadata": {
        "id": "70wzahaDa3gI"
      },
      "execution_count": null,
      "outputs": []
    },
    {
      "cell_type": "markdown",
      "source": [
        "**GOALS SCORED AND CONCEDED AT THE END OF MATCHWEEK, ARRANGED BY TEAMS AND MATCHWEEK**"
      ],
      "metadata": {
        "id": "iasFa59Aa3gJ"
      }
    },
    {
      "cell_type": "code",
      "source": [
        "# Function to calculate cumulative goals scored per matchweek\n",
        "def get_goals_scored(playing_stat):\n",
        "    # Initialize a dictionary where each team will have a list of goals scored per match\n",
        "    teams = {team: [] for team in playing_stat['HomeTeam'].unique()}\n",
        "\n",
        "    # Loop over each match in the dataset\n",
        "    for i in range(len(playing_stat)):\n",
        "        HTGS = playing_stat.iloc[i]['FTHG']  # Full Time Home Goals scored by Home Team\n",
        "        ATGS = playing_stat.iloc[i]['FTAG']  # Full Time Away Goals scored by Away Team\n",
        "\n",
        "        # Append goals scored to respective team lists\n",
        "        teams[playing_stat.iloc[i].HomeTeam].append(HTGS)\n",
        "        teams[playing_stat.iloc[i].AwayTeam].append(ATGS)\n",
        "\n",
        "    # Convert the dictionary into a DataFrame with weeks as columns (1 to 38), teams as rows\n",
        "    GS = pd.DataFrame(data=teams, index=range(1, 39)).T\n",
        "\n",
        "    # Initialize matchweek 0 as 0 goals scored\n",
        "    GS[0] = 0\n",
        "\n",
        "    # Compute cumulative goals scored by each team up to each matchweek\n",
        "    for i in range(2, 39):\n",
        "        GS[i] = GS[i] + GS[i - 1]\n",
        "\n",
        "    return GS\n",
        "\n",
        "\n",
        "# Function to calculate cumulative goals conceded per matchweek\n",
        "def get_goals_conceded(playing_stat):\n",
        "    # Initialize a dictionary for each team's goals conceded per match\n",
        "    teams = {team: [] for team in playing_stat['HomeTeam'].unique()}\n",
        "\n",
        "    # Loop over each match\n",
        "    for i in range(len(playing_stat)):\n",
        "        ATGC = playing_stat.iloc[i]['FTHG']  # Home team goals = goals conceded by away team\n",
        "        HTGC = playing_stat.iloc[i]['FTAG']  # Away team goals = goals conceded by home team\n",
        "\n",
        "        # Append goals conceded to respective team lists\n",
        "        teams[playing_stat.iloc[i].HomeTeam].append(HTGC)\n",
        "        teams[playing_stat.iloc[i].AwayTeam].append(ATGC)\n",
        "\n",
        "    # Convert dictionary into a DataFrame with weeks as columns (1 to 38), teams as rows\n",
        "    GC = pd.DataFrame(data=teams, index=range(1, 39)).T\n",
        "\n",
        "    # Initialize matchweek 0 as 0 goals conceded\n",
        "    GC[0] = 0\n",
        "\n",
        "    # Compute cumulative goals conceded by each team up to each matchweek\n",
        "    for i in range(2, 39):\n",
        "        GC[i] = GC[i] + GC[i - 1]\n",
        "\n",
        "    return GC\n",
        "\n",
        "\n",
        "# Main function to append cumulative stats to the playing_stat DataFrame\n",
        "def get_gss(playing_stat):\n",
        "    # Make a copy of the DataFrame to avoid SettingWithCopyWarning\n",
        "    playing_stat = playing_stat.copy()\n",
        "\n",
        "    # Get cumulative goals conceded and scored\n",
        "    GC = get_goals_conceded(playing_stat)\n",
        "    GS = get_goals_scored(playing_stat)\n",
        "\n",
        "    # Initialize lists to store computed stats for each row/match\n",
        "    HTGS, ATGS, HTGC, ATGC = [], [], [], []\n",
        "    matchweek = 0  # Track which matchweek we are in\n",
        "\n",
        "    # Loop over each match in the dataset\n",
        "    for i in range(len(playing_stat)):\n",
        "        ht = playing_stat.iloc[i].HomeTeam  # Get home team name\n",
        "        at = playing_stat.iloc[i].AwayTeam  # Get away team name\n",
        "\n",
        "        # Append cumulative stats up to current matchweek\n",
        "        HTGS.append(GS.loc[ht][matchweek])\n",
        "        ATGS.append(GS.loc[at][matchweek])\n",
        "        HTGC.append(GC.loc[ht][matchweek])\n",
        "        ATGC.append(GC.loc[at][matchweek])\n",
        "\n",
        "        # Update matchweek every 10 matches (10 matches per week in EPL)\n",
        "        if (i + 1) % 10 == 0:\n",
        "            matchweek += 1\n",
        "\n",
        "    # Add new columns to the dataset for each stat\n",
        "    playing_stat['HTGS'] = HTGS  # Home Team Goals Scored so far\n",
        "    playing_stat['ATGS'] = ATGS  # Away Team Goals Scored so far\n",
        "    playing_stat['HTGC'] = HTGC  # Home Team Goals Conceded so far\n",
        "    playing_stat['ATGC'] = ATGC  # Away Team Goals Conceded so far\n",
        "\n",
        "    return playing_stat\n",
        "\n",
        "\n",
        "# Apply the get_gss function to a list of playing statistics DataFrames\n",
        "playing_statistics = [get_gss(df) for df in playing_statistics]"
      ],
      "metadata": {
        "id": "_3TUvG61a3gK"
      },
      "execution_count": null,
      "outputs": []
    },
    {
      "cell_type": "markdown",
      "source": [
        "**GET RESPECTIVE POINTS**"
      ],
      "metadata": {
        "id": "jp9ifOBga3gM"
      }
    },
    {
      "cell_type": "code",
      "source": [
        "# Function to convert match result to points\n",
        "def get_match_points(result):\n",
        "    # Win gives 3 points\n",
        "    if result == 'W':\n",
        "        return 3\n",
        "    # Draw gives 1 point\n",
        "    elif result == 'D':\n",
        "        return 1\n",
        "    # Loss gives 0 points\n",
        "    else:\n",
        "        return 0\n",
        "\n",
        "\n",
        "# Function to generate raw match results (W/D/L) for each team\n",
        "def get_match_results(playing_stat):\n",
        "    # Initialize a dictionary for each team with an empty list\n",
        "    teams = {team: [] for team in playing_stat['HomeTeam'].unique()}\n",
        "\n",
        "    # Loop over each row/match to populate results\n",
        "    for i in range(len(playing_stat)):\n",
        "        result = playing_stat.iloc[i].FTR  # Match result: 'H', 'A', or 'D'\n",
        "\n",
        "        home = playing_stat.iloc[i].HomeTeam\n",
        "        away = playing_stat.iloc[i].AwayTeam\n",
        "\n",
        "        # Append match result for each team\n",
        "        if result == 'H':\n",
        "            teams[home].append('W')   # Home win\n",
        "            teams[away].append('L')   # Away loss\n",
        "        elif result == 'A':\n",
        "            teams[away].append('W')   # Away win\n",
        "            teams[home].append('L')   # Home loss\n",
        "        else:\n",
        "            teams[home].append('D')   # Draw\n",
        "            teams[away].append('D')   # Draw\n",
        "\n",
        "    # Convert to DataFrame (weeks = columns 1-38, teams = rows)\n",
        "    match_results_df = pd.DataFrame(data=teams, index=range(1, 39)).T\n",
        "    return match_results_df\n",
        "\n",
        "\n",
        "# Function to convert raw match results to cumulative points\n",
        "def get_cumulative_points(match_results_df):\n",
        "    # Apply point conversion function to each cell\n",
        "    match_points = match_results_df.map(get_match_points)\n",
        "\n",
        "    # Initialize week 0 as 0 points\n",
        "    match_points[0] = 0\n",
        "\n",
        "    # Compute cumulative points for each team up to each week\n",
        "    for i in range(2, 39):\n",
        "        match_points[i] = match_points[i] + match_points[i - 1]\n",
        "\n",
        "    return match_points\n",
        "\n",
        "\n",
        "# Main function to append team cumulative points to each row in the dataset\n",
        "def get_team_points(playing_stat):\n",
        "    # Make a copy of the DataFrame to avoid SettingWithCopyWarning\n",
        "    playing_stat = playing_stat.copy()\n",
        "\n",
        "    # Step 1: Get W/D/L for each team\n",
        "    match_results = get_match_results(playing_stat)\n",
        "\n",
        "    # Step 2: Get cumulative points for each team\n",
        "    cumulative_points = get_cumulative_points(match_results)\n",
        "\n",
        "    # Step 3: Assign cumulative points to each match row\n",
        "    HTP, ATP = [], []\n",
        "    matchweek = 0\n",
        "\n",
        "    for i in range(len(playing_stat)):\n",
        "        home = playing_stat.iloc[i].HomeTeam\n",
        "        away = playing_stat.iloc[i].AwayTeam\n",
        "\n",
        "        # Fetch cumulative points up to the current matchweek\n",
        "        HTP.append(cumulative_points.loc[home][matchweek])\n",
        "        ATP.append(cumulative_points.loc[away][matchweek])\n",
        "\n",
        "        # Update matchweek every 10 matches\n",
        "        if (i + 1) % 10 == 0:\n",
        "            matchweek += 1\n",
        "\n",
        "    # Add points columns to the DataFrame\n",
        "    playing_stat['HTP'] = HTP  # Home Team Points\n",
        "    playing_stat['ATP'] = ATP  # Away Team Points\n",
        "\n",
        "    return playing_stat"
      ],
      "metadata": {
        "id": "S3MysrTJa3gN"
      },
      "execution_count": null,
      "outputs": []
    },
    {
      "cell_type": "markdown",
      "source": [
        "**GET TEAM FORM:**"
      ],
      "metadata": {
        "id": "mUmCBKOja3gO"
      }
    },
    {
      "cell_type": "code",
      "source": [
        "# Function to compute rolling match results (form) for each team\n",
        "def get_form_results(playing_stat):\n",
        "    match_results = get_match_results(playing_stat)\n",
        "    form_df = match_results.copy()\n",
        "\n",
        "    # For each team, concatenate past match results to form a string\n",
        "    for week in range(1, 39):\n",
        "        for team in form_df.index:\n",
        "            if week < 6:\n",
        "                # Not enough matches played yet — assign 'M' for missing\n",
        "                form_df.at[team, week] = 'M' * 5\n",
        "            else:\n",
        "                # Form is composed of the last 5 match results before this week\n",
        "                form_df.at[team, week] = ''.join(match_results.loc[team][week - 5:week])\n",
        "\n",
        "    return form_df\n",
        "\n",
        "# Function to add form columns HM1–HM5 and AM1–AM5 to the dataset\n",
        "def get_form(playing_stat):\n",
        "    form_df = get_form_results(playing_stat)\n",
        "\n",
        "    # Initialize lists to hold form info per match\n",
        "    HM1, HM2, HM3, HM4, HM5 = [], [], [], [], []\n",
        "    AM1, AM2, AM3, AM4, AM5 = [], [], [], [], []\n",
        "\n",
        "    matchweek = 0\n",
        "\n",
        "    for i in range(len(playing_stat)):\n",
        "        ht = playing_stat.iloc[i].HomeTeam\n",
        "        at = playing_stat.iloc[i].AwayTeam\n",
        "\n",
        "        # Assign 'M' if form not yet available\n",
        "        if matchweek < 1:\n",
        "            HM1.append('M'); HM2.append('M'); HM3.append('M'); HM4.append('M'); HM5.append('M')\n",
        "            AM1.append('M'); AM2.append('M'); AM3.append('M'); AM4.append('M'); AM5.append('M')\n",
        "        else:\n",
        "            home_form = form_df.loc[ht][matchweek]\n",
        "            away_form = form_df.loc[at][matchweek]\n",
        "\n",
        "            HM1.append(home_form[4])\n",
        "            HM2.append(home_form[3])\n",
        "            HM3.append(home_form[2])\n",
        "            HM4.append(home_form[1])\n",
        "            HM5.append(home_form[0])\n",
        "\n",
        "            AM1.append(away_form[4])\n",
        "            AM2.append(away_form[3])\n",
        "            AM3.append(away_form[2])\n",
        "            AM4.append(away_form[1])\n",
        "            AM5.append(away_form[0])\n",
        "\n",
        "        # Every 10 matches = new matchweek\n",
        "        if (i + 1) % 10 == 0:\n",
        "            matchweek += 1\n",
        "\n",
        "    # Add columns to DataFrame\n",
        "    playing_stat['HM1'] = HM1; playing_stat['HM2'] = HM2; playing_stat['HM3'] = HM3\n",
        "    playing_stat['HM4'] = HM4; playing_stat['HM5'] = HM5\n",
        "\n",
        "    playing_stat['AM1'] = AM1; playing_stat['AM2'] = AM2; playing_stat['AM3'] = AM3\n",
        "    playing_stat['AM4'] = AM4; playing_stat['AM5'] = AM5\n",
        "\n",
        "    return playing_stat\n",
        "# Apply the get_form function to all playing_stat datasets\n",
        "playing_statistics = [get_form(df) for df in playing_statistics]\n",
        "\n"
      ],
      "metadata": {
        "id": "wSocKNYYa3gP"
      },
      "execution_count": null,
      "outputs": []
    },
    {
      "cell_type": "code",
      "source": [
        "# Apply the get_gss function to a list of playing statistics DataFrames\n",
        "playing_statistics = [get_gss(df) for df in playing_statistics]\n",
        "\n",
        "# Apply the get_team_points function to all playing_stat datasets\n",
        "playing_statistics = [get_team_points(df) for df in playing_statistics]\n",
        "\n",
        "# Desired column order\n",
        "cols = ['Date', 'HomeTeam', 'AwayTeam', 'FTHG', 'FTAG', 'FTR',\n",
        "        'HTGS', 'ATGS', 'HTGC', 'ATGC', 'HTP', 'ATP',\n",
        "        'HM1', 'HM2', 'HM3', 'HM4', 'HM5',\n",
        "        'AM1', 'AM2', 'AM3', 'AM4', 'AM5']\n",
        "\n",
        "# Apply the column rearrangement to each playing_statistics_i\n",
        "playing_statistics = [df[cols] for df in playing_statistics]"
      ],
      "metadata": {
        "id": "Eu9O4TxIa3gP"
      },
      "execution_count": null,
      "outputs": []
    },
    {
      "cell_type": "markdown",
      "source": [
        "**Get MatchWeek:**"
      ],
      "metadata": {
        "id": "bQsMGgOsa3gQ"
      }
    },
    {
      "cell_type": "code",
      "source": [
        "# Function to add MatchWeek column (MW) based on number of matches\n",
        "def get_mw(playing_stat):\n",
        "    j = 1\n",
        "    MatchWeek = []\n",
        "    for i in range(380):  # EPL season has 380 matches\n",
        "        MatchWeek.append(j)\n",
        "        if ((i + 1) % 10) == 0:  # Every 10 matches = 1 week\n",
        "            j += 1\n",
        "    playing_stat['MW'] = MatchWeek\n",
        "    return playing_stat\n",
        "\n",
        "# Apply get_mw to all season DataFrames\n",
        "playing_statistics = [get_mw(df) for df in playing_statistics]\n"
      ],
      "metadata": {
        "id": "wdCCKCJua3gR"
      },
      "execution_count": null,
      "outputs": []
    },
    {
      "cell_type": "markdown",
      "source": [
        "**FINAL DATAFRAME**"
      ],
      "metadata": {
        "id": "HIKKjpeSa3gR"
      }
    },
    {
      "cell_type": "code",
      "source": [
        "# Combine all playing_statistics DataFrames into one\n",
        "playing_stat = pd.concat(\n",
        "    playing_statistics,\n",
        "    ignore_index=True\n",
        ")\n",
        "\n",
        "# Helper function to assign points from result character\n",
        "def get_points(result):\n",
        "    if result == 'W':\n",
        "        return 3\n",
        "    elif result == 'D':\n",
        "        return 1\n",
        "    elif result == 'L':\n",
        "        return 0\n",
        "    else:\n",
        "        return 0  # Handle unexpected values\n",
        "\n",
        "# Calculates total form points from a string like 'WDWLW'\n",
        "def get_form_points(string):\n",
        "    return sum(get_points(letter) for letter in string)\n",
        "\n",
        "# Create home and away form strings\n",
        "home_matches = [f'HM{i}' for i in range(1, 6)]\n",
        "away_matches = [f'AM{i}' for i in range(1, 6)]\n",
        "\n",
        "playing_stat['HTFormPtsStr'] = playing_stat[home_matches].agg(''.join, axis=1)\n",
        "playing_stat['ATFormPtsStr'] = playing_stat[away_matches].agg(''.join, axis=1)\n",
        "\n",
        "# Apply form points calculation\n",
        "playing_stat['HTFormPts'] = playing_stat['HTFormPtsStr'].apply(get_form_points)\n",
        "playing_stat['ATFormPts'] = playing_stat['ATFormPtsStr'].apply(get_form_points)\n",
        "\n",
        "# Streak helper functions\n",
        "def get_streak(string, pattern):\n",
        "    return int(string.endswith(pattern))\n",
        "\n",
        "def is_exact_streak(string, pattern):\n",
        "    return int(string == pattern)\n",
        "\n",
        "# Generate win/loss streak flags for Home and Away teams\n",
        "for prefix in ['HT', 'AT']:\n",
        "    form_str_col = f'{prefix}FormPtsStr'\n",
        "\n",
        "    playing_stat[f'{prefix}WinStreak3'] = playing_stat[form_str_col].apply(lambda x: get_streak(x, 'WWW'))\n",
        "    playing_stat[f'{prefix}WinStreak5'] = playing_stat[form_str_col].apply(lambda x: is_exact_streak(x, 'WWWWW'))\n",
        "    playing_stat[f'{prefix}LossStreak3'] = playing_stat[form_str_col].apply(lambda x: get_streak(x, 'LLL'))\n",
        "    playing_stat[f'{prefix}LossStreak5'] = playing_stat[form_str_col].apply(lambda x: is_exact_streak(x, 'LLLLL'))\n",
        "\n",
        "# Check column names at the end\n",
        "print(playing_stat.columns)"
      ],
      "metadata": {
        "id": "uCMs-V_sa3gS",
        "colab": {
          "base_uri": "https://localhost:8080/"
        },
        "outputId": "af2faf59-fa6c-4607-9c2b-572d6815c83b"
      },
      "execution_count": null,
      "outputs": [
        {
          "output_type": "stream",
          "name": "stdout",
          "text": [
            "Index(['Date', 'HomeTeam', 'AwayTeam', 'FTHG', 'FTAG', 'FTR', 'HTGS', 'ATGS',\n",
            "       'HTGC', 'ATGC', 'HTP', 'ATP', 'HM1', 'HM2', 'HM3', 'HM4', 'HM5', 'AM1',\n",
            "       'AM2', 'AM3', 'AM4', 'AM5', 'MW', 'HTFormPtsStr', 'ATFormPtsStr',\n",
            "       'HTFormPts', 'ATFormPts', 'HTWinStreak3', 'HTWinStreak5',\n",
            "       'HTLossStreak3', 'HTLossStreak5', 'ATWinStreak3', 'ATWinStreak5',\n",
            "       'ATLossStreak3', 'ATLossStreak5'],\n",
            "      dtype='object')\n"
          ]
        }
      ]
    }
  ]
}