{
  "metadata": {
    "kernelspec": {
      "display_name": "Python 3",
      "language": "python",
      "name": "python3"
    },
    "language_info": {
      "codemirror_mode": {
        "name": "ipython",
        "version": 3
      },
      "file_extension": ".py",
      "mimetype": "text/x-python",
      "name": "python",
      "nbconvert_exporter": "python",
      "pygments_lexer": "ipython3",
      "version": "3.6.6"
    },
    "kaggle": {
      "accelerator": "none",
      "dataSources": [
        {
          "sourceId": 4229262,
          "sourceType": "datasetVersion",
          "datasetId": 524455
        }
      ],
      "isInternetEnabled": true,
      "language": "python",
      "sourceType": "notebook",
      "isGpuEnabled": false
    },
    "colab": {
      "provenance": []
    }
  },
  "nbformat_minor": 0,
  "nbformat": 4,
  "cells": [
    {
      "source": [
        "# IMPORTANT: RUN THIS CELL IN ORDER TO IMPORT YOUR KAGGLE DATA SOURCES,\n",
        "# THEN FEEL FREE TO DELETE THIS CELL.\n",
        "# NOTE: THIS NOTEBOOK ENVIRONMENT DIFFERS FROM KAGGLE'S PYTHON\n",
        "# ENVIRONMENT SO THERE MAY BE MISSING LIBRARIES USED BY YOUR\n",
        "# NOTEBOOK.\n",
        "import kagglehub\n",
        "saife245_english_premier_league_path = kagglehub.dataset_download('saife245/english-premier-league')\n",
        "\n",
        "print('Data source import complete.')\n"
      ],
      "metadata": {
        "id": "p-qDsbsga3f_",
        "colab": {
          "base_uri": "https://localhost:8080/"
        },
        "outputId": "a3b74ef1-2a3a-42e0-fa42-fbb3ef0929ee"
      },
      "cell_type": "code",
      "outputs": [
        {
          "output_type": "stream",
          "name": "stdout",
          "text": [
            "Downloading from https://www.kaggle.com/api/v1/datasets/download/saife245/english-premier-league?dataset_version_number=4...\n"
          ]
        },
        {
          "output_type": "stream",
          "name": "stderr",
          "text": [
            "100%|██████████| 1.12M/1.12M [00:00<00:00, 25.4MB/s]"
          ]
        },
        {
          "output_type": "stream",
          "name": "stdout",
          "text": [
            "Extracting files...\n",
            "Data source import complete.\n"
          ]
        },
        {
          "output_type": "stream",
          "name": "stderr",
          "text": [
            "\n"
          ]
        }
      ],
      "execution_count": null
    },
    {
      "cell_type": "markdown",
      "source": [
        "### Importing the dataset"
      ],
      "metadata": {
        "id": "g6fOi6uPa3gD"
      }
    },
    {
      "cell_type": "markdown",
      "source": [
        "import pandas as pd\n",
        "This imports the Pandas library, It allows us to work efficiently with data tables using DataFrame and Series structures.\n",
        "\n",
        "import matplotlib.pyplot as plt, It provides functions to create various types of charts like line plots, bar charts, scatter plots, etc.\n",
        "\n",
        "import numpy as np, It is mainly used for numerical computations and working with arrays and matrices.\n",
        "\n",
        "import seaborn as sns, It offers advanced plotting functions for visualizing relationships and patterns in data with better default aesthetics.\n",
        "\n",
        "from datetime import datetime as dt, allowing us to parse, format, and manipulate date and time values. It is aliased as dt for convenience.\n",
        "\n",
        "import itertools, provides functions that create iterators for efficient looping. It's useful for creating combinations, permutations, and other iterator-based tasks.\n",
        "\n",
        "%matplotlib inline\n",
        "This is a Jupyter/Colab-specific magic command. It ensures that all Matplotlib plots are displayed directly within the notebook cells instead of in separate windows."
      ],
      "metadata": {
        "id": "WurGWYsnbRFY"
      }
    },
    {
      "cell_type": "code",
      "source": [
        "import pandas as pd\n",
        "from pandas.plotting import scatter_matrix\n",
        "import matplotlib.pyplot as plt\n",
        "import numpy as np\n",
        "import seaborn as sns\n",
        "from datetime import datetime as dt\n",
        "import itertools\n",
        "\n",
        "%matplotlib inline"
      ],
      "metadata": {
        "id": "5a-rwu8ra3gG"
      },
      "execution_count": null,
      "outputs": []
    },
    {
      "cell_type": "markdown",
      "source": [
        "This code defines the file path for the datasets, lists the seasons to be included, and then reads each season's data from a CSV file into a list of pandas DataFrames."
      ],
      "metadata": {
        "id": "RKDRVLRadlH9"
      }
    },
    {
      "cell_type": "code",
      "source": [
        "# Define the folder path\n",
        "folder = saife245_english_premier_league_path + '/Datasets/'\n",
        "\n",
        "# Define the file names for the seasons\n",
        "seasons = [\n",
        "    '2000-01', '2001-02', '2002-03', '2003-04', '2004-05',\n",
        "    '2005-06', '2006-07', '2007-08', '2008-09', '2009-10',\n",
        "    '2010-11', '2011-12', '2012-13', '2013-14', '2014-15',\n",
        "    '2015-16', '2016-17', '2017-18'\n",
        "]\n",
        "\n",
        "# Read all CSV files into a list of DataFrames\n",
        "raw_data = [pd.read_csv(f'{folder}{season}.csv') for season in seasons]"
      ],
      "metadata": {
        "id": "O4WLkxF9a3gH"
      },
      "execution_count": null,
      "outputs": []
    },
    {
      "cell_type": "code",
      "source": [
        "# Columns we want to keep\n",
        "columns_req = ['Date', 'HomeTeam', 'AwayTeam', 'FTHG', 'FTAG', 'FTR']\n",
        "\n",
        "# Extract only the required columns from each season's DataFrame\n",
        "playing_statistics = [df[columns_req] for df in raw_data]\n"
      ],
      "metadata": {
        "id": "70wzahaDa3gI"
      },
      "execution_count": null,
      "outputs": []
    },
    {
      "cell_type": "markdown",
      "source": [
        "**GOALS SCORED AND CONCEDED AT THE END OF MATCHWEEK, ARRANGED BY TEAMS AND MATCHWEEK**"
      ],
      "metadata": {
        "id": "iasFa59Aa3gJ"
      }
    },
    {
      "cell_type": "code",
      "source": [
        "# Function to calculate cumulative goals scored per matchweek\n",
        "def get_goals_scored(playing_stat):\n",
        "    # Initialize a dictionary where each team will have a list of goals scored per match\n",
        "    teams = {team: [] for team in playing_stat['HomeTeam'].unique()}\n",
        "\n",
        "    # Loop over each match in the dataset\n",
        "    for i in range(len(playing_stat)):\n",
        "        HTGS = playing_stat.iloc[i]['FTHG']  # Full Time Home Goals scored by Home Team\n",
        "        ATGS = playing_stat.iloc[i]['FTAG']  # Full Time Away Goals scored by Away Team\n",
        "\n",
        "        # Append goals scored to respective team lists\n",
        "        teams[playing_stat.iloc[i].HomeTeam].append(HTGS)\n",
        "        teams[playing_stat.iloc[i].AwayTeam].append(ATGS)\n",
        "\n",
        "    # Convert the dictionary into a DataFrame with weeks as columns (1 to 38), teams as rows\n",
        "    GS = pd.DataFrame(data=teams, index=range(1, 39)).T\n",
        "\n",
        "    # Initialize matchweek 0 as 0 goals scored\n",
        "    GS[0] = 0\n",
        "\n",
        "    # Compute cumulative goals scored by each team up to each matchweek\n",
        "    for i in range(2, 39):\n",
        "        GS[i] = GS[i] + GS[i - 1]\n",
        "\n",
        "    return GS\n",
        "\n",
        "\n",
        "# Function to calculate cumulative goals conceded per matchweek\n",
        "def get_goals_conceded(playing_stat):\n",
        "    # Initialize a dictionary for each team's goals conceded per match\n",
        "    teams = {team: [] for team in playing_stat['HomeTeam'].unique()}\n",
        "\n",
        "    # Loop over each match\n",
        "    for i in range(len(playing_stat)):\n",
        "        ATGC = playing_stat.iloc[i]['FTHG']  # Home team goals = goals conceded by away team\n",
        "        HTGC = playing_stat.iloc[i]['FTAG']  # Away team goals = goals conceded by home team\n",
        "\n",
        "        # Append goals conceded to respective team lists\n",
        "        teams[playing_stat.iloc[i].HomeTeam].append(HTGC)\n",
        "        teams[playing_stat.iloc[i].AwayTeam].append(ATGC)\n",
        "\n",
        "    # Convert dictionary into a DataFrame with weeks as columns (1 to 38), teams as rows\n",
        "    GC = pd.DataFrame(data=teams, index=range(1, 39)).T\n",
        "\n",
        "    # Initialize matchweek 0 as 0 goals conceded\n",
        "    GC[0] = 0\n",
        "\n",
        "    # Compute cumulative goals conceded by each team up to each matchweek\n",
        "    for i in range(2, 39):\n",
        "        GC[i] = GC[i] + GC[i - 1]\n",
        "\n",
        "    return GC\n",
        "\n",
        "\n",
        "# Main function to append cumulative stats to the playing_stat DataFrame\n",
        "def get_gss(playing_stat):\n",
        "    # Make a copy of the DataFrame to avoid SettingWithCopyWarning\n",
        "    playing_stat = playing_stat.copy()\n",
        "\n",
        "    # Get cumulative goals conceded and scored\n",
        "    GC = get_goals_conceded(playing_stat)\n",
        "    GS = get_goals_scored(playing_stat)\n",
        "\n",
        "    # Initialize lists to store computed stats for each row/match\n",
        "    HTGS, ATGS, HTGC, ATGC = [], [], [], []\n",
        "    matchweek = 0  # Track which matchweek we are in\n",
        "\n",
        "    # Loop over each match in the dataset\n",
        "    for i in range(len(playing_stat)):\n",
        "        ht = playing_stat.iloc[i].HomeTeam  # Get home team name\n",
        "        at = playing_stat.iloc[i].AwayTeam  # Get away team name\n",
        "\n",
        "        # Append cumulative stats up to current matchweek\n",
        "        HTGS.append(GS.loc[ht][matchweek])\n",
        "        ATGS.append(GS.loc[at][matchweek])\n",
        "        HTGC.append(GC.loc[ht][matchweek])\n",
        "        ATGC.append(GC.loc[at][matchweek])\n",
        "\n",
        "        # Update matchweek every 10 matches (10 matches per week in EPL)\n",
        "        if (i + 1) % 10 == 0:\n",
        "            matchweek += 1\n",
        "\n",
        "    # Add new columns to the dataset for each stat\n",
        "    playing_stat['HTGS'] = HTGS  # Home Team Goals Scored so far\n",
        "    playing_stat['ATGS'] = ATGS  # Away Team Goals Scored so far\n",
        "    playing_stat['HTGC'] = HTGC  # Home Team Goals Conceded so far\n",
        "    playing_stat['ATGC'] = ATGC  # Away Team Goals Conceded so far\n",
        "\n",
        "    return playing_stat\n",
        "\n",
        "\n",
        "# Apply the get_gss function to a list of playing statistics DataFrames\n",
        "playing_statistics = [get_gss(df) for df in playing_statistics]"
      ],
      "metadata": {
        "id": "_3TUvG61a3gK"
      },
      "execution_count": null,
      "outputs": []
    },
    {
      "cell_type": "markdown",
      "source": [
        "**GET RESPECTIVE POINTS**"
      ],
      "metadata": {
        "id": "jp9ifOBga3gM"
      }
    },
    {
      "cell_type": "code",
      "source": [
        "# Function to convert match result to points\n",
        "def get_match_points(result):\n",
        "    # Win gives 3 points\n",
        "    if result == 'W':\n",
        "        return 3\n",
        "    # Draw gives 1 point\n",
        "    elif result == 'D':\n",
        "        return 1\n",
        "    # Loss gives 0 points\n",
        "    else:\n",
        "        return 0\n",
        "\n",
        "\n",
        "# Function to generate raw match results (W/D/L) for each team\n",
        "def get_match_results(playing_stat):\n",
        "    # Initialize a dictionary for each team with an empty list\n",
        "    teams = {team: [] for team in playing_stat['HomeTeam'].unique()}\n",
        "\n",
        "    # Loop over each row/match to populate results\n",
        "    for i in range(len(playing_stat)):\n",
        "        result = playing_stat.iloc[i].FTR  # Match result: 'H', 'A', or 'D'\n",
        "\n",
        "        home = playing_stat.iloc[i].HomeTeam\n",
        "        away = playing_stat.iloc[i].AwayTeam\n",
        "\n",
        "        # Append match result for each team\n",
        "        if result == 'H':\n",
        "            teams[home].append('W')   # Home win\n",
        "            teams[away].append('L')   # Away loss\n",
        "        elif result == 'A':\n",
        "            teams[away].append('W')   # Away win\n",
        "            teams[home].append('L')   # Home loss\n",
        "        else:\n",
        "            teams[home].append('D')   # Draw\n",
        "            teams[away].append('D')   # Draw\n",
        "\n",
        "    # Convert to DataFrame (weeks = columns 1-38, teams = rows)\n",
        "    match_results_df = pd.DataFrame(data=teams, index=range(1, 39)).T\n",
        "    return match_results_df\n",
        "\n",
        "\n",
        "# Function to convert raw match results to cumulative points\n",
        "def get_cumulative_points(match_results_df):\n",
        "    # Apply point conversion function to each cell\n",
        "    match_points = match_results_df.map(get_match_points)\n",
        "\n",
        "    # Initialize week 0 as 0 points\n",
        "    match_points[0] = 0\n",
        "\n",
        "    # Compute cumulative points for each team up to each week\n",
        "    for i in range(2, 39):\n",
        "        match_points[i] = match_points[i] + match_points[i - 1]\n",
        "\n",
        "    return match_points\n",
        "\n",
        "\n",
        "# Main function to append team cumulative points to each row in the dataset\n",
        "def get_team_points(playing_stat):\n",
        "    # Make a copy of the DataFrame to avoid SettingWithCopyWarning\n",
        "    playing_stat = playing_stat.copy()\n",
        "\n",
        "    # Step 1: Get W/D/L for each team\n",
        "    match_results = get_match_results(playing_stat)\n",
        "\n",
        "    # Step 2: Get cumulative points for each team\n",
        "    cumulative_points = get_cumulative_points(match_results)\n",
        "\n",
        "    # Step 3: Assign cumulative points to each match row\n",
        "    HTP, ATP = [], []\n",
        "    matchweek = 0\n",
        "\n",
        "    for i in range(len(playing_stat)):\n",
        "        home = playing_stat.iloc[i].HomeTeam\n",
        "        away = playing_stat.iloc[i].AwayTeam\n",
        "\n",
        "        # Fetch cumulative points up to the current matchweek\n",
        "        HTP.append(cumulative_points.loc[home][matchweek])\n",
        "        ATP.append(cumulative_points.loc[away][matchweek])\n",
        "\n",
        "        # Update matchweek every 10 matches\n",
        "        if (i + 1) % 10 == 0:\n",
        "            matchweek += 1\n",
        "\n",
        "    # Add points columns to the DataFrame\n",
        "    playing_stat['HTP'] = HTP  # Home Team Points\n",
        "    playing_stat['ATP'] = ATP  # Away Team Points\n",
        "\n",
        "    return playing_stat"
      ],
      "metadata": {
        "id": "S3MysrTJa3gN"
      },
      "execution_count": null,
      "outputs": []
    },
    {
      "cell_type": "markdown",
      "source": [
        "**GET TEAM FORM:**"
      ],
      "metadata": {
        "id": "mUmCBKOja3gO"
      }
    },
    {
      "cell_type": "code",
      "source": [
        "# Function to compute rolling match results (form) for each team\n",
        "def get_form_results(playing_stat):\n",
        "    match_results = get_match_results(playing_stat)\n",
        "    form_df = match_results.copy()\n",
        "\n",
        "    # For each team, concatenate past match results to form a string\n",
        "    for week in range(1, 39):\n",
        "        for team in form_df.index:\n",
        "            if week < 6:\n",
        "                # Not enough matches played yet — assign 'M' for missing\n",
        "                form_df.at[team, week] = 'M' * 5\n",
        "            else:\n",
        "                # Form is composed of the last 5 match results before this week\n",
        "                form_df.at[team, week] = ''.join(match_results.loc[team][week - 5:week])\n",
        "\n",
        "    return form_df\n",
        "\n",
        "# Function to add form columns HM1–HM5 and AM1–AM5 to the dataset\n",
        "def get_form(playing_stat):\n",
        "    form_df = get_form_results(playing_stat)\n",
        "\n",
        "    # Initialize lists to hold form info per match\n",
        "    HM1, HM2, HM3, HM4, HM5 = [], [], [], [], []\n",
        "    AM1, AM2, AM3, AM4, AM5 = [], [], [], [], []\n",
        "\n",
        "    matchweek = 0\n",
        "\n",
        "    for i in range(len(playing_stat)):\n",
        "        ht = playing_stat.iloc[i].HomeTeam\n",
        "        at = playing_stat.iloc[i].AwayTeam\n",
        "\n",
        "        # Assign 'M' if form not yet available\n",
        "        if matchweek < 1:\n",
        "            HM1.append('M'); HM2.append('M'); HM3.append('M'); HM4.append('M'); HM5.append('M')\n",
        "            AM1.append('M'); AM2.append('M'); AM3.append('M'); AM4.append('M'); AM5.append('M')\n",
        "        else:\n",
        "            home_form = form_df.loc[ht][matchweek]\n",
        "            away_form = form_df.loc[at][matchweek]\n",
        "\n",
        "            HM1.append(home_form[4])\n",
        "            HM2.append(home_form[3])\n",
        "            HM3.append(home_form[2])\n",
        "            HM4.append(home_form[1])\n",
        "            HM5.append(home_form[0])\n",
        "\n",
        "            AM1.append(away_form[4])\n",
        "            AM2.append(away_form[3])\n",
        "            AM3.append(away_form[2])\n",
        "            AM4.append(away_form[1])\n",
        "            AM5.append(away_form[0])\n",
        "\n",
        "        # Every 10 matches = new matchweek\n",
        "        if (i + 1) % 10 == 0:\n",
        "            matchweek += 1\n",
        "\n",
        "    # Add columns to DataFrame\n",
        "    playing_stat['HM1'] = HM1; playing_stat['HM2'] = HM2; playing_stat['HM3'] = HM3\n",
        "    playing_stat['HM4'] = HM4; playing_stat['HM5'] = HM5\n",
        "\n",
        "    playing_stat['AM1'] = AM1; playing_stat['AM2'] = AM2; playing_stat['AM3'] = AM3\n",
        "    playing_stat['AM4'] = AM4; playing_stat['AM5'] = AM5\n",
        "\n",
        "    return playing_stat\n",
        "# Apply the get_form function to all playing_stat datasets\n",
        "playing_statistics = [get_form(df) for df in playing_statistics]\n",
        "\n"
      ],
      "metadata": {
        "id": "wSocKNYYa3gP"
      },
      "execution_count": null,
      "outputs": []
    },
    {
      "cell_type": "code",
      "source": [
        "# Apply the get_gss function to a list of playing statistics DataFrames\n",
        "playing_statistics = [get_gss(df) for df in playing_statistics]\n",
        "\n",
        "# Apply the get_team_points function to all playing_stat datasets\n",
        "playing_statistics = [get_team_points(df) for df in playing_statistics]\n",
        "\n",
        "# Desired column order\n",
        "cols = ['Date', 'HomeTeam', 'AwayTeam', 'FTHG', 'FTAG', 'FTR',\n",
        "        'HTGS', 'ATGS', 'HTGC', 'ATGC', 'HTP', 'ATP',\n",
        "        'HM1', 'HM2', 'HM3', 'HM4', 'HM5',\n",
        "        'AM1', 'AM2', 'AM3', 'AM4', 'AM5']\n",
        "\n",
        "# Apply the column rearrangement to each playing_statistics_i\n",
        "playing_statistics = [df[cols] for df in playing_statistics]"
      ],
      "metadata": {
        "id": "Eu9O4TxIa3gP"
      },
      "execution_count": null,
      "outputs": []
    },
    {
      "cell_type": "markdown",
      "source": [
        "**Get MatchWeek:**"
      ],
      "metadata": {
        "id": "bQsMGgOsa3gQ"
      }
    },
    {
      "cell_type": "code",
      "source": [
        "# Function to add MatchWeek column (MW) based on number of matches\n",
        "def get_mw(playing_stat):\n",
        "    j = 1\n",
        "    MatchWeek = []\n",
        "    for i in range(380):  # EPL season has 380 matches\n",
        "        MatchWeek.append(j)\n",
        "        if ((i + 1) % 10) == 0:  # Every 10 matches = 1 week\n",
        "            j += 1\n",
        "    playing_stat['MW'] = MatchWeek\n",
        "    return playing_stat\n",
        "\n",
        "# Apply get_mw to all season DataFrames\n",
        "playing_statistics = [get_mw(df) for df in playing_statistics]\n"
      ],
      "metadata": {
        "id": "wdCCKCJua3gR"
      },
      "execution_count": null,
      "outputs": []
    },
    {
      "cell_type": "markdown",
      "source": [
        "**FINAL DATAFRAME**"
      ],
      "metadata": {
        "id": "HIKKjpeSa3gR"
      }
    },
    {
      "cell_type": "code",
      "source": [
        "# Combine all playing_statistics DataFrames into one\n",
        "playing_stat = pd.concat(\n",
        "    playing_statistics,\n",
        "    ignore_index=True\n",
        ")\n",
        "\n",
        "# Helper function to assign points from result character\n",
        "def get_points(result):\n",
        "    if result == 'W':\n",
        "        return 3\n",
        "    elif result == 'D':\n",
        "        return 1\n",
        "    elif result == 'L':\n",
        "        return 0\n",
        "    else:\n",
        "        return 0  # Handle unexpected values\n",
        "\n",
        "# Calculates total form points from a string like 'WDWLW'\n",
        "def get_form_points(string):\n",
        "    return sum(get_points(letter) for letter in string)\n",
        "\n",
        "# Create home and away form strings\n",
        "home_matches = [f'HM{i}' for i in range(1, 6)]\n",
        "away_matches = [f'AM{i}' for i in range(1, 6)]\n",
        "\n",
        "playing_stat['HTFormPtsStr'] = playing_stat[home_matches].agg(''.join, axis=1)\n",
        "playing_stat['ATFormPtsStr'] = playing_stat[away_matches].agg(''.join, axis=1)\n",
        "\n",
        "# Apply form points calculation\n",
        "playing_stat['HTFormPts'] = playing_stat['HTFormPtsStr'].apply(get_form_points)\n",
        "playing_stat['ATFormPts'] = playing_stat['ATFormPtsStr'].apply(get_form_points)\n",
        "\n",
        "# Streak helper functions\n",
        "def get_streak(string, pattern):\n",
        "    return int(string.endswith(pattern))\n",
        "\n",
        "def is_exact_streak(string, pattern):\n",
        "    return int(string == pattern)\n",
        "\n",
        "# Generate win/loss streak flags for Home and Away teams\n",
        "for prefix in ['HT', 'AT']:\n",
        "    form_str_col = f'{prefix}FormPtsStr'\n",
        "\n",
        "    playing_stat[f'{prefix}WinStreak3'] = playing_stat[form_str_col].apply(lambda x: get_streak(x, 'WWW'))\n",
        "    playing_stat[f'{prefix}WinStreak5'] = playing_stat[form_str_col].apply(lambda x: is_exact_streak(x, 'WWWWW'))\n",
        "    playing_stat[f'{prefix}LossStreak3'] = playing_stat[form_str_col].apply(lambda x: get_streak(x, 'LLL'))\n",
        "    playing_stat[f'{prefix}LossStreak5'] = playing_stat[form_str_col].apply(lambda x: is_exact_streak(x, 'LLLLL'))\n",
        "\n",
        "# Check column names at the end\n",
        "print(playing_stat.columns)"
      ],
      "metadata": {
        "id": "uCMs-V_sa3gS",
        "colab": {
          "base_uri": "https://localhost:8080/"
        },
        "outputId": "6d359b1b-07b9-4b3b-9bb0-b8ed427487cf"
      },
      "execution_count": null,
      "outputs": [
        {
          "output_type": "stream",
          "name": "stdout",
          "text": [
            "Index(['Date', 'HomeTeam', 'AwayTeam', 'FTHG', 'FTAG', 'FTR', 'HTGS', 'ATGS',\n",
            "       'HTGC', 'ATGC', 'HTP', 'ATP', 'HM1', 'HM2', 'HM3', 'HM4', 'HM5', 'AM1',\n",
            "       'AM2', 'AM3', 'AM4', 'AM5', 'MW', 'HTFormPtsStr', 'ATFormPtsStr',\n",
            "       'HTFormPts', 'ATFormPts', 'HTWinStreak3', 'HTWinStreak5',\n",
            "       'HTLossStreak3', 'HTLossStreak5', 'ATWinStreak3', 'ATWinStreak5',\n",
            "       'ATLossStreak3', 'ATLossStreak5'],\n",
            "      dtype='object')\n"
          ]
        }
      ]
    },
    {
      "cell_type": "code",
      "source": [
        "# -------------------------------------\n",
        "# 1. Compute Goal Differences (GD)\n",
        "# -------------------------------------\n",
        "playing_stat['HTGD'] = playing_stat['HTGS'] - playing_stat['HTGC']  # Home Team Goal Difference\n",
        "playing_stat['ATGD'] = playing_stat['ATGS'] - playing_stat['ATGC']  # Away Team Goal Difference\n",
        "\n",
        "# -------------------------------------\n",
        "# 2. Compute Points and Form Differences\n",
        "# -------------------------------------\n",
        "playing_stat['DiffPts'] = playing_stat['HTP'] - playing_stat['ATP']  # Points difference\n",
        "playing_stat['DiffFormPts'] = playing_stat['HTFormPts'] - playing_stat['ATFormPts']  # Form points difference\n",
        "\n",
        "# -------------------------------------\n",
        "# 3. Scale stats by Matchweek (MW)\n",
        "# -------------------------------------\n",
        "# Convert MatchWeek to float (to avoid integer division)\n",
        "playing_stat['MW'] = playing_stat['MW'].astype(float)\n",
        "\n",
        "# Features to scale by matchweek\n",
        "scale_cols = ['HTGD', 'ATGD', 'DiffPts', 'DiffFormPts', 'HTP', 'ATP']\n",
        "\n",
        "# Normalize each feature by matchweek\n",
        "for col in scale_cols:\n",
        "    playing_stat[col] = playing_stat[col] / playing_stat['MW']\n",
        "\n",
        "# -------------------------------------\n",
        "# 4. Binary Classification: Only Home Wins vs Not Home Win\n",
        "# -------------------------------------\n",
        "# Convert FTR (Full Time Result) to binary class\n",
        "def label_home_win(result):\n",
        "    return 'H' if result == 'H' else 'NH'  # NH = Not Home Win\n",
        "\n",
        "playing_stat['FTR'] = playing_stat['FTR'].apply(label_home_win)\n",
        "\n",
        "# -------------------------------------\n",
        "# 5. Prepare Test Set (Assuming last season is 2015-16)\n",
        "# -------------------------------------\n",
        "playing_stat_test = playing_stat[5700:]  # Rows 5700 onwards are test set\n",
        "\n",
        "# -------------------------------------\n",
        "# 6. Save Processed Datasets\n",
        "# -------------------------------------\n",
        "playing_stat.to_csv('final_dataset.csv', index=False)        # Full dataset\n",
        "playing_stat_test.to_csv('test_set.csv', index=False)        # Test subset only\n",
        "\n",
        "# -------------------------------------\n",
        "# 7. Reload and Preview Dataset\n",
        "# -------------------------------------\n",
        "dataset = pd.read_csv('final_dataset.csv')  # Load for inspection\n",
        "print(dataset.head())                       # Preview first few rows\n",
        "print(dataset.columns)                      # Print column names\n"
      ],
      "metadata": {
        "colab": {
          "base_uri": "https://localhost:8080/"
        },
        "id": "azLir8HJU-Md",
        "outputId": "fbf7fc09-8557-49e4-e746-55d51fb131ed"
      },
      "execution_count": null,
      "outputs": [
        {
          "output_type": "stream",
          "name": "stdout",
          "text": [
            "       Date  HomeTeam       AwayTeam  FTHG  FTAG FTR  HTGS  ATGS  HTGC  ATGC  \\\n",
            "0  19/08/00  Charlton       Man City     4     0   H     0     0     0     0   \n",
            "1  19/08/00   Chelsea       West Ham     4     2   H     0     0     0     0   \n",
            "2  19/08/00  Coventry  Middlesbrough     1     3  NH     0     0     0     0   \n",
            "3  19/08/00     Derby    Southampton     2     2  NH     0     0     0     0   \n",
            "4  19/08/00     Leeds        Everton     2     0   H     0     0     0     0   \n",
            "\n",
            "   ...  HTLossStreak3  HTLossStreak5 ATWinStreak3 ATWinStreak5 ATLossStreak3  \\\n",
            "0  ...              0              0            0            0             0   \n",
            "1  ...              0              0            0            0             0   \n",
            "2  ...              0              0            0            0             0   \n",
            "3  ...              0              0            0            0             0   \n",
            "4  ...              0              0            0            0             0   \n",
            "\n",
            "  ATLossStreak5 HTGD ATGD DiffPts DiffFormPts  \n",
            "0             0  0.0  0.0     0.0         0.0  \n",
            "1             0  0.0  0.0     0.0         0.0  \n",
            "2             0  0.0  0.0     0.0         0.0  \n",
            "3             0  0.0  0.0     0.0         0.0  \n",
            "4             0  0.0  0.0     0.0         0.0  \n",
            "\n",
            "[5 rows x 39 columns]\n",
            "Index(['Date', 'HomeTeam', 'AwayTeam', 'FTHG', 'FTAG', 'FTR', 'HTGS', 'ATGS',\n",
            "       'HTGC', 'ATGC', 'HTP', 'ATP', 'HM1', 'HM2', 'HM3', 'HM4', 'HM5', 'AM1',\n",
            "       'AM2', 'AM3', 'AM4', 'AM5', 'MW', 'HTFormPtsStr', 'ATFormPtsStr',\n",
            "       'HTFormPts', 'ATFormPts', 'HTWinStreak3', 'HTWinStreak5',\n",
            "       'HTLossStreak3', 'HTLossStreak5', 'ATWinStreak3', 'ATWinStreak5',\n",
            "       'ATLossStreak3', 'ATLossStreak5', 'HTGD', 'ATGD', 'DiffPts',\n",
            "       'DiffFormPts'],\n",
            "      dtype='object')\n"
          ]
        }
      ]
    },
    {
      "cell_type": "code",
      "source": [
        "# Create a copy of the full dataset before dropping columns\n",
        "dataset2 = playing_stat.copy().drop(columns=[\n",
        "    'Date', 'HomeTeam', 'AwayTeam', 'FTHG', 'FTAG',       # Raw match result data\n",
        "    'HTGS', 'ATGS', 'HTGC', 'ATGC',                       # Goals scored/conceded\n",
        "    'HM4', 'HM5', 'AM4', 'AM5',                           # Old form memory\n",
        "    'MW',                                                 # Matchweek info\n",
        "    'HTFormPtsStr', 'ATFormPtsStr',                       # Form string\n",
        "    'HTFormPts', 'ATFormPts',                             # Form points\n",
        "    'HTWinStreak3', 'HTWinStreak5', 'HTLossStreak3', 'HTLossStreak5',\n",
        "    'ATWinStreak3', 'ATWinStreak5', 'ATLossStreak3', 'ATLossStreak5',\n",
        "    'DiffPts'                                             # Points difference (already normalized)\n",
        "])\n",
        "\n",
        "# Optional: Check remaining feature names\n",
        "print(\"Remaining features in dataset2:\")\n",
        "print(dataset2.keys())\n",
        "\n",
        "# Optional: Preview the first 10 rows\n",
        "print(\"\\nPreview of dataset2:\")\n",
        "print(dataset2.head(10))\n",
        "\n",
        "# --------------------------------------\n",
        "# Calculate Win Rate for Home Team\n",
        "# --------------------------------------\n",
        "\n",
        "# Total number of matches\n",
        "n_matches = dataset2.shape[0]\n",
        "\n",
        "# Number of features (excluding the target variable 'FTR')\n",
        "n_features = dataset2.shape[1] - 1\n",
        "\n",
        "# Count number of home wins (where FTR == 'H')\n",
        "n_homewins = len(dataset2[dataset2.FTR == 'H'])\n",
        "\n",
        "# Calculate win rate percentage\n",
        "win_rate = (n_homewins / n_matches) * 100\n",
        "\n",
        "# Print results\n",
        "print(\"\\nMatch Statistics Summary:\")\n",
        "print(f\"Total number of matches: {n_matches}\")\n",
        "print(f\"Number of features: {n_features}\")\n",
        "print(f\"Number of matches won by home team: {n_homewins}\")\n",
        "print(f\"Win rate of home team: {win_rate:.2f}%\")\n"
      ],
      "metadata": {
        "colab": {
          "base_uri": "https://localhost:8080/"
        },
        "id": "n_0XxlXf6mXO",
        "outputId": "1280affb-e23a-46d6-8295-074165aa2783"
      },
      "execution_count": null,
      "outputs": [
        {
          "output_type": "stream",
          "name": "stdout",
          "text": [
            "Remaining features in dataset2:\n",
            "Index(['FTR', 'HTP', 'ATP', 'HM1', 'HM2', 'HM3', 'AM1', 'AM2', 'AM3', 'HTGD',\n",
            "       'ATGD', 'DiffFormPts'],\n",
            "      dtype='object')\n",
            "\n",
            "Preview of dataset2:\n",
            "  FTR  HTP  ATP HM1 HM2 HM3 AM1 AM2 AM3  HTGD  ATGD  DiffFormPts\n",
            "0   H  0.0  0.0   M   M   M   M   M   M   0.0   0.0          0.0\n",
            "1   H  0.0  0.0   M   M   M   M   M   M   0.0   0.0          0.0\n",
            "2  NH  0.0  0.0   M   M   M   M   M   M   0.0   0.0          0.0\n",
            "3  NH  0.0  0.0   M   M   M   M   M   M   0.0   0.0          0.0\n",
            "4   H  0.0  0.0   M   M   M   M   M   M   0.0   0.0          0.0\n",
            "5  NH  0.0  0.0   M   M   M   M   M   M   0.0   0.0          0.0\n",
            "6   H  0.0  0.0   M   M   M   M   M   M   0.0   0.0          0.0\n",
            "7   H  0.0  0.0   M   M   M   M   M   M   0.0   0.0          0.0\n",
            "8   H  0.0  0.0   M   M   M   M   M   M   0.0   0.0          0.0\n",
            "9   H  0.0  0.0   M   M   M   M   M   M   0.0   0.0          0.0\n",
            "\n",
            "Match Statistics Summary:\n",
            "Total number of matches: 6840\n",
            "Number of features: 11\n",
            "Number of matches won by home team: 3176\n",
            "Win rate of home team: 46.43%\n"
          ]
        }
      ]
    },
    {
      "cell_type": "code",
      "source": [
        "# Separate dataset into features (X) and target (y)\n",
        "# 'FTR' = Full Time Result: 'H' = Home Win, 'NH' = Not Home Win (as per earlier transformation)\n",
        "X_all = dataset2.drop(['FTR'], axis=1)  # Drop the target column from features\n",
        "y_all = dataset2['FTR']                 # Target variable\n",
        "\n",
        "# Standardize numeric features: HTGD, ATGD, HTP, ATP\n",
        "from sklearn.preprocessing import scale\n",
        "\n",
        "# Columns to scale\n",
        "scale_cols = ['HTGD', 'ATGD', 'HTP', 'ATP']\n",
        "\n",
        "# Apply standardization (zero mean, unit variance)\n",
        "X_all[scale_cols] = scale(X_all[scale_cols])\n",
        "\n",
        "# Ensure form-related columns are strings for dummy conversion\n",
        "form_cols = ['HM1', 'HM2', 'HM3', 'AM1', 'AM2', 'AM3']\n",
        "X_all[form_cols] = X_all[form_cols].astype(str)\n",
        "\n",
        "# Preprocess features: convert categorical variables to dummy variables\n",
        "def preprocess_features(X):\n",
        "    '''Converts categorical columns to one-hot encoded variables.'''\n",
        "    output = pd.DataFrame(index=X.index)\n",
        "\n",
        "    for col, col_data in X.items(): # Changed iteritems() to items()\n",
        "        # Convert categorical data to one-hot encoded columns\n",
        "        if col_data.dtype == object:\n",
        "            col_data = pd.get_dummies(col_data, prefix=col)\n",
        "\n",
        "        # Add column(s) to output\n",
        "        output = output.join(col_data)\n",
        "\n",
        "    return output\n",
        "\n",
        "# Apply preprocessing\n",
        "X_all = preprocess_features(X_all)\n",
        "\n",
        "# Summary of final features\n",
        "print(\"Processed feature columns ({} total features):\\n{}\".format(len(X_all.columns), list(X_all.columns)))\n",
        "\n",
        "# Preview first 10 rows\n",
        "X_all.head(10)\n",
        "\n",
        "from sklearn.model_selection import train_test_split\n",
        "\n",
        "# Split the data into 70% training and 30% testing, stratified by target class\n",
        "X_train, X_test, y_train, y_test = train_test_split(\n",
        "    X_all, y_all,\n",
        "    test_size=0.3,\n",
        "    random_state=2,\n",
        "    stratify=y_all\n",
        ")"
      ],
      "metadata": {
        "colab": {
          "base_uri": "https://localhost:8080/"
        },
        "id": "y_xDelf69FB1",
        "outputId": "29c6126c-9bba-4424-cd84-6e0cf86952ab"
      },
      "execution_count": null,
      "outputs": [
        {
          "output_type": "stream",
          "name": "stdout",
          "text": [
            "Processed feature columns (29 total features):\n",
            "['HTP', 'ATP', 'HM1_D', 'HM1_L', 'HM1_M', 'HM1_W', 'HM2_D', 'HM2_L', 'HM2_M', 'HM2_W', 'HM3_D', 'HM3_L', 'HM3_M', 'HM3_W', 'AM1_D', 'AM1_L', 'AM1_M', 'AM1_W', 'AM2_D', 'AM2_L', 'AM2_M', 'AM2_W', 'AM3_D', 'AM3_L', 'AM3_M', 'AM3_W', 'HTGD', 'ATGD', 'DiffFormPts']\n"
          ]
        }
      ]
    },
    {
      "cell_type": "markdown",
      "source": [
        "Logistic Regression"
      ],
      "metadata": {
        "id": "outNvUUvAYwQ"
      }
    },
    {
      "cell_type": "code",
      "source": [
        "# Import Logistic Regression model\n",
        "from sklearn.linear_model import LogisticRegression\n",
        "\n",
        "# Instantiate the model\n",
        "classifier = LogisticRegression(random_state=0)\n",
        "\n",
        "# Train the model on the training data\n",
        "classifier.fit(X_train, y_train)\n",
        "\n",
        "# Predict the outcomes on the test set\n",
        "y_pred = classifier.predict(X_test)\n",
        "\n",
        "# Import evaluation metrics\n",
        "from sklearn.metrics import confusion_matrix, classification_report\n",
        "import seaborn as sns\n",
        "import matplotlib.pyplot as plt\n",
        "\n",
        "# Generate confusion matrix\n",
        "cm = confusion_matrix(y_test, y_pred)\n",
        "\n",
        "# Plot confusion matrix\n",
        "plt.figure(figsize=(6, 4))\n",
        "sns.heatmap(cm, annot=True, fmt='d', cmap='Blues', xticklabels=['Not Home Win', 'Home Win'], yticklabels=['Not Home Win', 'Home Win'])\n",
        "plt.xlabel('Predicted')\n",
        "plt.ylabel('Actual')\n",
        "plt.title('Confusion Matrix - Logistic Regression')\n",
        "plt.show()\n",
        "\n",
        "# Print detailed classification performance\n",
        "print(\"Classification Report:\\n\")\n",
        "print(classification_report(y_test, y_pred, target_names=['Not Home Win', 'Home Win']))\n"
      ],
      "metadata": {
        "colab": {
          "base_uri": "https://localhost:8080/",
          "height": 601
        },
        "id": "bxc44Ie8AbKH",
        "outputId": "73a7fa92-d7b4-45c7-89e4-ae2b3f245bdc"
      },
      "execution_count": null,
      "outputs": [
        {
          "output_type": "display_data",
          "data": {
            "text/plain": [
              "<Figure size 600x400 with 2 Axes>"
            ],
            "image/png": "[encoded data removed]"
          },
          "metadata": {}
        },
        {
          "output_type": "stream",
          "name": "stdout",
          "text": [
            "Classification Report:\n",
            "\n",
            "              precision    recall  f1-score   support\n",
            "\n",
            "Not Home Win       0.64      0.56      0.60       953\n",
            "    Home Win       0.66      0.73      0.69      1099\n",
            "\n",
            "    accuracy                           0.65      2052\n",
            "   macro avg       0.65      0.64      0.64      2052\n",
            "weighted avg       0.65      0.65      0.65      2052\n",
            "\n"
          ]
        }
      ]
    },
    {
      "cell_type": "markdown",
      "source": [
        "SVM"
      ],
      "metadata": {
        "id": "6jA43nzPArlF"
      }
    },
    {
      "cell_type": "code",
      "source": [
        "# Import SVM model from scikit-learn\n",
        "from sklearn.svm import SVC\n",
        "\n",
        "# Initialize the classifier with RBF kernel\n",
        "classifier = SVC(kernel='rbf', random_state=0)\n",
        "\n",
        "# Fit the model on the training data\n",
        "classifier.fit(X_train, y_train)\n",
        "\n",
        "# Predict the target values for the test data\n",
        "y_pred = classifier.predict(X_test)\n",
        "\n",
        "# Import required metrics\n",
        "from sklearn.metrics import confusion_matrix, classification_report\n",
        "import seaborn as sns\n",
        "import matplotlib.pyplot as plt\n",
        "\n",
        "# Compute the confusion matrix\n",
        "cm = confusion_matrix(y_test, y_pred)\n",
        "\n",
        "# Visualize the confusion matrix\n",
        "plt.figure(figsize=(6, 4))\n",
        "sns.heatmap(cm, annot=True, fmt='d', cmap='Greens',\n",
        "            xticklabels=['Not Home Win', 'Home Win'],\n",
        "            yticklabels=['Not Home Win', 'Home Win'])\n",
        "plt.xlabel('Predicted')\n",
        "plt.ylabel('Actual')\n",
        "plt.title('Confusion Matrix - SVM (RBF Kernel)')\n",
        "plt.show()\n",
        "\n",
        "# Print classification metrics\n",
        "print(\"Classification Report:\\n\")\n",
        "print(classification_report(y_test, y_pred, target_names=['Not Home Win', 'Home Win']))\n"
      ],
      "metadata": {
        "colab": {
          "base_uri": "https://localhost:8080/",
          "height": 601
        },
        "id": "41RPd3mcAsl6",
        "outputId": "2d09120e-204d-4c84-cf8c-0aa1836b9429"
      },
      "execution_count": null,
      "outputs": [
        {
          "output_type": "display_data",
          "data": {
            "text/plain": [
              "<Figure size 600x400 with 2 Axes>"
            ],
            "image/png": "[encoded data removed]"
          },
          "metadata": {}
        },
        {
          "output_type": "stream",
          "name": "stdout",
          "text": [
            "Classification Report:\n",
            "\n",
            "              precision    recall  f1-score   support\n",
            "\n",
            "Not Home Win       0.65      0.54      0.59       953\n",
            "    Home Win       0.65      0.75      0.70      1099\n",
            "\n",
            "    accuracy                           0.65      2052\n",
            "   macro avg       0.65      0.64      0.64      2052\n",
            "weighted avg       0.65      0.65      0.65      2052\n",
            "\n"
          ]
        }
      ]
    },
    {
      "cell_type": "markdown",
      "source": [
        "Random Forest"
      ],
      "metadata": {
        "id": "M3HLeJGiA8Ol"
      }
    },
    {
      "cell_type": "code",
      "source": [
        "# Import Random Forest model\n",
        "from sklearn.ensemble import RandomForestClassifier\n",
        "\n",
        "# Initialize the Random Forest classifier with specific hyperparameters\n",
        "classifier = RandomForestClassifier(\n",
        "    criterion='gini',               # Splitting quality metric: 'gini' or 'entropy'\n",
        "    n_estimators=700,              # Number of decision trees in the forest\n",
        "    min_samples_split=10,          # Minimum samples required to split an internal node\n",
        "    min_samples_leaf=1,            # Minimum samples required to be a leaf node\n",
        "    max_features='sqrt',           # Number of features to consider when looking for the best split\n",
        "    oob_score=True,                # Use out-of-bag samples to estimate generalization accuracy\n",
        "    random_state=1,                # Seed for reproducibility\n",
        "    n_jobs=-1                      # Use all CPU cores for parallel training\n",
        ")\n",
        "\n",
        "# Fit the classifier to the training data\n",
        "classifier.fit(X_train, y_train)\n",
        "\n",
        "# Predict target values for the test data\n",
        "y_pred = classifier.predict(X_test)\n",
        "\n",
        "# Import metrics for evaluation\n",
        "from sklearn.metrics import confusion_matrix, classification_report\n",
        "import seaborn as sns\n",
        "import matplotlib.pyplot as plt\n",
        "\n",
        "# Generate confusion matrix\n",
        "cm = confusion_matrix(y_test, y_pred)\n",
        "\n",
        "# Visualize the confusion matrix\n",
        "plt.figure(figsize=(6, 4))\n",
        "sns.heatmap(cm, annot=True, fmt='d', cmap='Blues',\n",
        "            xticklabels=['Not Home Win', 'Home Win'],\n",
        "            yticklabels=['Not Home Win', 'Home Win'])\n",
        "plt.xlabel('Predicted')\n",
        "plt.ylabel('Actual')\n",
        "plt.title('Confusion Matrix - Random Forest')\n",
        "plt.show()\n",
        "\n",
        "# Print classification report\n",
        "print(\"Classification Report:\\n\")\n",
        "print(classification_report(y_test, y_pred, target_names=['Not Home Win', 'Home Win']))\n",
        "\n",
        "print(\"Out-of-Bag Score: {:.2f}%\".format(classifier.oob_score_ * 100))"
      ],
      "metadata": {
        "colab": {
          "base_uri": "https://localhost:8080/",
          "height": 618
        },
        "id": "39j9VNSzA-Ee",
        "outputId": "2b8f3540-f788-4253-d546-b5b652a22671"
      },
      "execution_count": null,
      "outputs": [
        {
          "output_type": "display_data",
          "data": {
            "text/plain": [
              "<Figure size 600x400 with 2 Axes>"
            ],
            "image/png": "[encoded data removed]"
          },
          "metadata": {}
        },
        {
          "output_type": "stream",
          "name": "stdout",
          "text": [
            "Classification Report:\n",
            "\n",
            "              precision    recall  f1-score   support\n",
            "\n",
            "Not Home Win       0.62      0.53      0.57       953\n",
            "    Home Win       0.64      0.72      0.68      1099\n",
            "\n",
            "    accuracy                           0.63      2052\n",
            "   macro avg       0.63      0.63      0.62      2052\n",
            "weighted avg       0.63      0.63      0.63      2052\n",
            "\n",
            "Out-of-Bag Score: 62.78%\n"
          ]
        }
      ]
    },
    {
      "cell_type": "markdown",
      "source": [
        "XG Boost"
      ],
      "metadata": {
        "id": "ICouzroNBOe5"
      }
    },
    {
      "cell_type": "code",
      "source": [
        "# Import XGBoost classifier\n",
        "from xgboost import XGBClassifier\n",
        "from sklearn.preprocessing import LabelEncoder\n",
        "\n",
        "# Encode target variable\n",
        "le = LabelEncoder()\n",
        "y_train_encoded = le.fit_transform(y_train)\n",
        "y_test_encoded = le.transform(y_test)\n",
        "\n",
        "# Initialize the XGBoost model with a random seed\n",
        "classifier = XGBClassifier(seed=82, use_label_encoder=False, eval_metric='mlogloss')  # Prevents warning\n",
        "\n",
        "# Fit the model to the training data\n",
        "classifier.fit(X_train, y_train_encoded)\n",
        "\n",
        "# Predict on the test data\n",
        "y_pred_encoded = classifier.predict(X_test)\n",
        "\n",
        "# Decode predictions back to original labels for evaluation\n",
        "y_pred = le.inverse_transform(y_pred_encoded)\n",
        "\n",
        "\n",
        "# Import evaluation metrics\n",
        "from sklearn.metrics import confusion_matrix, classification_report\n",
        "import seaborn as sns\n",
        "import matplotlib.pyplot as plt\n",
        "\n",
        "# Compute confusion matrix\n",
        "cm = confusion_matrix(y_test, y_pred)\n",
        "\n",
        "# Visualize the confusion matrix\n",
        "plt.figure(figsize=(6, 4))\n",
        "sns.heatmap(cm, annot=True, fmt='d', cmap='Greens',\n",
        "            xticklabels=['Not Home Win', 'Home Win'],\n",
        "            yticklabels=['Not Home Win', 'Home Win'])\n",
        "plt.xlabel('Predicted')\n",
        "plt.ylabel('Actual')\n",
        "plt.title('Confusion Matrix - XGBoost')\n",
        "plt.show()\n",
        "\n",
        "# Display classification metrics\n",
        "print(\"Classification Report:\\n\")\n",
        "print(classification_report(y_test, y_pred, target_names=['Not Home Win', 'Home Win']))"
      ],
      "metadata": {
        "colab": {
          "base_uri": "https://localhost:8080/",
          "height": 601
        },
        "id": "z0A4jcDBBP_j",
        "outputId": "6d9062fb-bb8f-4d35-952b-fdf9b40a5106"
      },
      "execution_count": null,
      "outputs": [
        {
          "output_type": "display_data",
          "data": {
            "text/plain": [
              "<Figure size 600x400 with 2 Axes>"
            ],
            "image/png": "[encoded data removed]"
          },
          "metadata": {}
        },
        {
          "output_type": "stream",
          "name": "stdout",
          "text": [
            "Classification Report:\n",
            "\n",
            "              precision    recall  f1-score   support\n",
            "\n",
            "Not Home Win       0.59      0.53      0.56       953\n",
            "    Home Win       0.63      0.68      0.65      1099\n",
            "\n",
            "    accuracy                           0.61      2052\n",
            "   macro avg       0.61      0.60      0.60      2052\n",
            "weighted avg       0.61      0.61      0.61      2052\n",
            "\n"
          ]
        }
      ]
    },
    {
      "cell_type": "markdown",
      "source": [
        "Compare All Models Side-by-Side\n"
      ],
      "metadata": {
        "id": "v_O9QeFGXezX"
      }
    },
    {
      "cell_type": "code",
      "source": [
        "from sklearn.metrics import accuracy_score\n",
        "from sklearn.linear_model import LogisticRegression\n",
        "from sklearn.svm import SVC\n",
        "from sklearn.ensemble import RandomForestClassifier\n",
        "from xgboost import XGBClassifier\n",
        "from sklearn.preprocessing import LabelEncoder\n",
        "\n",
        "# Encode target variable for XGBoost\n",
        "le = LabelEncoder()\n",
        "y_train_encoded = le.fit_transform(y_train)\n",
        "y_test_encoded = le.transform(y_test)\n",
        "\n",
        "\n",
        "models = {\n",
        "    \"Logistic Regression\": LogisticRegression(random_state=0),\n",
        "    \"SVM (RBF Kernel)\": SVC(kernel='rbf', random_state=0),\n",
        "    \"Random Forest\": RandomForestClassifier(criterion='gini',\n",
        "                                            n_estimators=700,\n",
        "                                            min_samples_split=10,\n",
        "                                            min_samples_leaf=1,\n",
        "                                            max_features='sqrt', # Changed from 'auto' to 'sqrt'\n",
        "                                            oob_score=True,\n",
        "                                            random_state=1,\n",
        "                                            n_jobs=-1),\n",
        "    \"XGBoost\": XGBClassifier(seed=82, use_label_encoder=False, eval_metric='mlogloss')\n",
        "}\n",
        "\n",
        "results = {}\n",
        "\n",
        "for name, model in models.items():\n",
        "    # Check if the model is XGBoost and use encoded target\n",
        "    if name == \"XGBoost\":\n",
        "        model.fit(X_train, y_train_encoded)\n",
        "        preds_encoded = model.predict(X_test)\n",
        "        preds = le.inverse_transform(preds_encoded) # Decode predictions for accuracy calculation\n",
        "    else:\n",
        "        model.fit(X_train, y_train)\n",
        "        preds = model.predict(X_test)\n",
        "\n",
        "    acc = accuracy_score(y_test, preds)\n",
        "    results[name] = acc\n",
        "\n",
        "# Show results\n",
        "print(\"Model Comparison (Accuracy %):\")\n",
        "for model, score in results.items():\n",
        "    print(f\"{model}: {score * 100:.2f}%\")"
      ],
      "metadata": {
        "colab": {
          "base_uri": "https://localhost:8080/"
        },
        "id": "guDWMMKgXh7L",
        "outputId": "f5fe60bf-e090-44aa-fba5-a9786782e8a1"
      },
      "execution_count": null,
      "outputs": [
        {
          "output_type": "stream",
          "name": "stdout",
          "text": [
            "Model Comparison (Accuracy %):\n",
            "Logistic Regression: 65.01%\n",
            "SVM (RBF Kernel): 65.20%\n",
            "Random Forest: 63.21%\n",
            "XGBoost: 61.01%\n"
          ]
        }
      ]
    }
  ]
}